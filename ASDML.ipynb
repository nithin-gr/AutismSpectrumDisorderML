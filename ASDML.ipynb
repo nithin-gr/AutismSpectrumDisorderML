{
  "nbformat": 4,
  "nbformat_minor": 0,
  "metadata": {
    "colab": {
      "name": "IFP_Visualize.ipynb",
      "provenance": [],
      "collapsed_sections": []
    },
    "kernelspec": {
      "name": "python3",
      "display_name": "Python 3"
    },
    "language_info": {
      "name": "python"
    }
  },
  "cells": [
    {
      "cell_type": "code",
      "metadata": {
        "id": "XlF_28PzkbNB"
      },
      "source": [
        "import pandas as pd\n",
        "import matplotlib.pyplot as plt "
      ],
      "execution_count": null,
      "outputs": []
    },
    {
      "cell_type": "code",
      "metadata": {
        "id": "YE4cd3-qtB-9"
      },
      "source": [
        "nor = pd.read_csv('/content/drive/MyDrive/Autism/CSV/Normal.csv')\n",
        "aut = pd.read_csv('/content/drive/MyDrive/Autism/CSV/Autism.csv')"
      ],
      "execution_count": null,
      "outputs": []
    },
    {
      "cell_type": "code",
      "metadata": {
        "colab": {
          "base_uri": "https://localhost:8080/",
          "height": 203
        },
        "id": "MouUlO1Pt3vV",
        "outputId": "572ae173-9ab0-425d-c8d6-cb719f9a08f0"
      },
      "source": [
        "nor.head()"
      ],
      "execution_count": null,
      "outputs": [
        {
          "output_type": "execute_result",
          "data": {
            "text/html": [
              "<div>\n",
              "<style scoped>\n",
              "    .dataframe tbody tr th:only-of-type {\n",
              "        vertical-align: middle;\n",
              "    }\n",
              "\n",
              "    .dataframe tbody tr th {\n",
              "        vertical-align: top;\n",
              "    }\n",
              "\n",
              "    .dataframe thead th {\n",
              "        text-align: right;\n",
              "    }\n",
              "</style>\n",
              "<table border=\"1\" class=\"dataframe\">\n",
              "  <thead>\n",
              "    <tr style=\"text-align: right;\">\n",
              "      <th></th>\n",
              "      <th>Date</th>\n",
              "      <th>Time</th>\n",
              "      <th>Subject</th>\n",
              "      <th>BPM</th>\n",
              "      <th>GSR</th>\n",
              "      <th>Gender</th>\n",
              "      <th>Age</th>\n",
              "      <th>Human Resistance</th>\n",
              "    </tr>\n",
              "  </thead>\n",
              "  <tbody>\n",
              "    <tr>\n",
              "      <th>0</th>\n",
              "      <td>18/7/2021</td>\n",
              "      <td>21:39:18</td>\n",
              "      <td>10</td>\n",
              "      <td>45</td>\n",
              "      <td>129.0</td>\n",
              "      <td>M</td>\n",
              "      <td>21</td>\n",
              "      <td>33472.584856</td>\n",
              "    </tr>\n",
              "    <tr>\n",
              "      <th>1</th>\n",
              "      <td>18/7/2021</td>\n",
              "      <td>21:39:23</td>\n",
              "      <td>10</td>\n",
              "      <td>55</td>\n",
              "      <td>125.0</td>\n",
              "      <td>M</td>\n",
              "      <td>21</td>\n",
              "      <td>32919.896641</td>\n",
              "    </tr>\n",
              "    <tr>\n",
              "      <th>2</th>\n",
              "      <td>18/7/2021</td>\n",
              "      <td>21:39:29</td>\n",
              "      <td>10</td>\n",
              "      <td>90</td>\n",
              "      <td>126.0</td>\n",
              "      <td>M</td>\n",
              "      <td>21</td>\n",
              "      <td>33056.994819</td>\n",
              "    </tr>\n",
              "    <tr>\n",
              "      <th>3</th>\n",
              "      <td>18/7/2021</td>\n",
              "      <td>21:39:35</td>\n",
              "      <td>10</td>\n",
              "      <td>115</td>\n",
              "      <td>127.0</td>\n",
              "      <td>M</td>\n",
              "      <td>21</td>\n",
              "      <td>33194.805195</td>\n",
              "    </tr>\n",
              "    <tr>\n",
              "      <th>4</th>\n",
              "      <td>18/7/2021</td>\n",
              "      <td>21:39:40</td>\n",
              "      <td>10</td>\n",
              "      <td>107</td>\n",
              "      <td>126.0</td>\n",
              "      <td>M</td>\n",
              "      <td>21</td>\n",
              "      <td>33056.994819</td>\n",
              "    </tr>\n",
              "  </tbody>\n",
              "</table>\n",
              "</div>"
            ],
            "text/plain": [
              "        Date      Time  Subject  BPM    GSR Gender  Age  Human Resistance\n",
              "0  18/7/2021  21:39:18       10   45  129.0      M   21      33472.584856\n",
              "1  18/7/2021  21:39:23       10   55  125.0      M   21      32919.896641\n",
              "2  18/7/2021  21:39:29       10   90  126.0      M   21      33056.994819\n",
              "3  18/7/2021  21:39:35       10  115  127.0      M   21      33194.805195\n",
              "4  18/7/2021  21:39:40       10  107  126.0      M   21      33056.994819"
            ]
          },
          "metadata": {},
          "execution_count": 3
        }
      ]
    },
    {
      "cell_type": "code",
      "metadata": {
        "colab": {
          "base_uri": "https://localhost:8080/",
          "height": 295
        },
        "id": "kOTAHTGUSVXC",
        "outputId": "9f5c240f-71b0-46bb-c7a2-bceec98e5ef9"
      },
      "source": [
        "nor.describe()"
      ],
      "execution_count": null,
      "outputs": [
        {
          "output_type": "execute_result",
          "data": {
            "text/html": [
              "<div>\n",
              "<style scoped>\n",
              "    .dataframe tbody tr th:only-of-type {\n",
              "        vertical-align: middle;\n",
              "    }\n",
              "\n",
              "    .dataframe tbody tr th {\n",
              "        vertical-align: top;\n",
              "    }\n",
              "\n",
              "    .dataframe thead th {\n",
              "        text-align: right;\n",
              "    }\n",
              "</style>\n",
              "<table border=\"1\" class=\"dataframe\">\n",
              "  <thead>\n",
              "    <tr style=\"text-align: right;\">\n",
              "      <th></th>\n",
              "      <th>Subject</th>\n",
              "      <th>BPM</th>\n",
              "      <th>GSR</th>\n",
              "      <th>Age</th>\n",
              "      <th>Human Resistance</th>\n",
              "    </tr>\n",
              "  </thead>\n",
              "  <tbody>\n",
              "    <tr>\n",
              "      <th>count</th>\n",
              "      <td>1611.000000</td>\n",
              "      <td>1611.000000</td>\n",
              "      <td>1611.000000</td>\n",
              "      <td>1611.000000</td>\n",
              "      <td>1611.000000</td>\n",
              "    </tr>\n",
              "    <tr>\n",
              "      <th>mean</th>\n",
              "      <td>20.319056</td>\n",
              "      <td>77.935444</td>\n",
              "      <td>126.241651</td>\n",
              "      <td>39.037244</td>\n",
              "      <td>33090.467090</td>\n",
              "    </tr>\n",
              "    <tr>\n",
              "      <th>std</th>\n",
              "      <td>6.675347</td>\n",
              "      <td>22.255285</td>\n",
              "      <td>0.814136</td>\n",
              "      <td>19.237931</td>\n",
              "      <td>111.752831</td>\n",
              "    </tr>\n",
              "    <tr>\n",
              "      <th>min</th>\n",
              "      <td>10.000000</td>\n",
              "      <td>40.000000</td>\n",
              "      <td>119.600000</td>\n",
              "      <td>9.000000</td>\n",
              "      <td>32191.641182</td>\n",
              "    </tr>\n",
              "    <tr>\n",
              "      <th>25%</th>\n",
              "      <td>14.000000</td>\n",
              "      <td>58.000000</td>\n",
              "      <td>125.700000</td>\n",
              "      <td>20.000000</td>\n",
              "      <td>33015.790836</td>\n",
              "    </tr>\n",
              "    <tr>\n",
              "      <th>50%</th>\n",
              "      <td>20.000000</td>\n",
              "      <td>78.000000</td>\n",
              "      <td>126.500000</td>\n",
              "      <td>41.000000</td>\n",
              "      <td>33125.810636</td>\n",
              "    </tr>\n",
              "    <tr>\n",
              "      <th>75%</th>\n",
              "      <td>26.000000</td>\n",
              "      <td>97.500000</td>\n",
              "      <td>126.600000</td>\n",
              "      <td>50.000000</td>\n",
              "      <td>33139.595226</td>\n",
              "    </tr>\n",
              "    <tr>\n",
              "      <th>max</th>\n",
              "      <td>32.000000</td>\n",
              "      <td>115.000000</td>\n",
              "      <td>129.000000</td>\n",
              "      <td>75.000000</td>\n",
              "      <td>33472.584856</td>\n",
              "    </tr>\n",
              "  </tbody>\n",
              "</table>\n",
              "</div>"
            ],
            "text/plain": [
              "           Subject          BPM          GSR          Age  Human Resistance\n",
              "count  1611.000000  1611.000000  1611.000000  1611.000000       1611.000000\n",
              "mean     20.319056    77.935444   126.241651    39.037244      33090.467090\n",
              "std       6.675347    22.255285     0.814136    19.237931        111.752831\n",
              "min      10.000000    40.000000   119.600000     9.000000      32191.641182\n",
              "25%      14.000000    58.000000   125.700000    20.000000      33015.790836\n",
              "50%      20.000000    78.000000   126.500000    41.000000      33125.810636\n",
              "75%      26.000000    97.500000   126.600000    50.000000      33139.595226\n",
              "max      32.000000   115.000000   129.000000    75.000000      33472.584856"
            ]
          },
          "metadata": {},
          "execution_count": 4
        }
      ]
    },
    {
      "cell_type": "code",
      "metadata": {
        "colab": {
          "base_uri": "https://localhost:8080/",
          "height": 295
        },
        "id": "VKishERwSXbA",
        "outputId": "c5f57cf4-0f37-4026-96de-fba5f65a283e"
      },
      "source": [
        "aut.describe()"
      ],
      "execution_count": null,
      "outputs": [
        {
          "output_type": "execute_result",
          "data": {
            "text/html": [
              "<div>\n",
              "<style scoped>\n",
              "    .dataframe tbody tr th:only-of-type {\n",
              "        vertical-align: middle;\n",
              "    }\n",
              "\n",
              "    .dataframe tbody tr th {\n",
              "        vertical-align: top;\n",
              "    }\n",
              "\n",
              "    .dataframe thead th {\n",
              "        text-align: right;\n",
              "    }\n",
              "</style>\n",
              "<table border=\"1\" class=\"dataframe\">\n",
              "  <thead>\n",
              "    <tr style=\"text-align: right;\">\n",
              "      <th></th>\n",
              "      <th>Subject</th>\n",
              "      <th>BPM</th>\n",
              "      <th>GSR</th>\n",
              "      <th>Age</th>\n",
              "      <th>Human Resistance</th>\n",
              "    </tr>\n",
              "  </thead>\n",
              "  <tbody>\n",
              "    <tr>\n",
              "      <th>count</th>\n",
              "      <td>866.000000</td>\n",
              "      <td>866.000000</td>\n",
              "      <td>866.000000</td>\n",
              "      <td>866.000000</td>\n",
              "      <td>866.000000</td>\n",
              "    </tr>\n",
              "    <tr>\n",
              "      <th>mean</th>\n",
              "      <td>4.078522</td>\n",
              "      <td>78.293303</td>\n",
              "      <td>127.414550</td>\n",
              "      <td>18.036952</td>\n",
              "      <td>33252.564665</td>\n",
              "    </tr>\n",
              "    <tr>\n",
              "      <th>std</th>\n",
              "      <td>2.237531</td>\n",
              "      <td>22.022834</td>\n",
              "      <td>1.081124</td>\n",
              "      <td>1.422697</td>\n",
              "      <td>149.614063</td>\n",
              "    </tr>\n",
              "    <tr>\n",
              "      <th>min</th>\n",
              "      <td>0.000000</td>\n",
              "      <td>40.000000</td>\n",
              "      <td>124.600000</td>\n",
              "      <td>15.000000</td>\n",
              "      <td>32865.255550</td>\n",
              "    </tr>\n",
              "    <tr>\n",
              "      <th>25%</th>\n",
              "      <td>3.000000</td>\n",
              "      <td>60.000000</td>\n",
              "      <td>126.600000</td>\n",
              "      <td>18.000000</td>\n",
              "      <td>33139.595226</td>\n",
              "    </tr>\n",
              "    <tr>\n",
              "      <th>50%</th>\n",
              "      <td>3.000000</td>\n",
              "      <td>76.000000</td>\n",
              "      <td>127.700000</td>\n",
              "      <td>18.000000</td>\n",
              "      <td>33291.699193</td>\n",
              "    </tr>\n",
              "    <tr>\n",
              "      <th>75%</th>\n",
              "      <td>5.000000</td>\n",
              "      <td>99.000000</td>\n",
              "      <td>128.700000</td>\n",
              "      <td>18.000000</td>\n",
              "      <td>33430.733107</td>\n",
              "    </tr>\n",
              "    <tr>\n",
              "      <th>max</th>\n",
              "      <td>9.000000</td>\n",
              "      <td>115.000000</td>\n",
              "      <td>130.000000</td>\n",
              "      <td>21.000000</td>\n",
              "      <td>33612.565445</td>\n",
              "    </tr>\n",
              "  </tbody>\n",
              "</table>\n",
              "</div>"
            ],
            "text/plain": [
              "          Subject         BPM         GSR         Age  Human Resistance\n",
              "count  866.000000  866.000000  866.000000  866.000000        866.000000\n",
              "mean     4.078522   78.293303  127.414550   18.036952      33252.564665\n",
              "std      2.237531   22.022834    1.081124    1.422697        149.614063\n",
              "min      0.000000   40.000000  124.600000   15.000000      32865.255550\n",
              "25%      3.000000   60.000000  126.600000   18.000000      33139.595226\n",
              "50%      3.000000   76.000000  127.700000   18.000000      33291.699193\n",
              "75%      5.000000   99.000000  128.700000   18.000000      33430.733107\n",
              "max      9.000000  115.000000  130.000000   21.000000      33612.565445"
            ]
          },
          "metadata": {},
          "execution_count": 5
        }
      ]
    },
    {
      "cell_type": "code",
      "metadata": {
        "colab": {
          "base_uri": "https://localhost:8080/",
          "height": 282
        },
        "id": "aqy6FdRN6i9H",
        "outputId": "27705e07-9db0-4bed-ef58-ff2f1daec2cf"
      },
      "source": [
        "plt.scatter([i for i in range(len(nor))],nor['BPM'])\n",
        "plt.scatter([i for i in range(len(aut))],aut['BPM'])"
      ],
      "execution_count": null,
      "outputs": [
        {
          "output_type": "execute_result",
          "data": {
            "text/plain": [
              "<matplotlib.collections.PathCollection at 0x7fdd27cdc910>"
            ]
          },
          "metadata": {},
          "execution_count": 6
        },
        {
          "output_type": "display_data",
          "data": {
            "image/png": "[encoded data removed]",
            "text/plain": [
              "<Figure size 432x288 with 1 Axes>"
            ]
          },
          "metadata": {
            "needs_background": "light"
          }
        }
      ]
    },
    {
      "cell_type": "code",
      "metadata": {
        "id": "8b_NWP71tRWc"
      },
      "source": [
        "nor.loc[:,'Y']=0"
      ],
      "execution_count": null,
      "outputs": []
    },
    {
      "cell_type": "code",
      "metadata": {
        "colab": {
          "base_uri": "https://localhost:8080/",
          "height": 203
        },
        "id": "Ry7p-_rXt1qH",
        "outputId": "86ac576e-fa15-4436-ba29-fa6aa6619808"
      },
      "source": [
        "nor.head()"
      ],
      "execution_count": null,
      "outputs": [
        {
          "output_type": "execute_result",
          "data": {
            "text/html": [
              "<div>\n",
              "<style scoped>\n",
              "    .dataframe tbody tr th:only-of-type {\n",
              "        vertical-align: middle;\n",
              "    }\n",
              "\n",
              "    .dataframe tbody tr th {\n",
              "        vertical-align: top;\n",
              "    }\n",
              "\n",
              "    .dataframe thead th {\n",
              "        text-align: right;\n",
              "    }\n",
              "</style>\n",
              "<table border=\"1\" class=\"dataframe\">\n",
              "  <thead>\n",
              "    <tr style=\"text-align: right;\">\n",
              "      <th></th>\n",
              "      <th>Date</th>\n",
              "      <th>Time</th>\n",
              "      <th>Subject</th>\n",
              "      <th>BPM</th>\n",
              "      <th>GSR</th>\n",
              "      <th>Gender</th>\n",
              "      <th>Age</th>\n",
              "      <th>Human Resistance</th>\n",
              "      <th>Y</th>\n",
              "    </tr>\n",
              "  </thead>\n",
              "  <tbody>\n",
              "    <tr>\n",
              "      <th>0</th>\n",
              "      <td>18/7/2021</td>\n",
              "      <td>21:39:18</td>\n",
              "      <td>10</td>\n",
              "      <td>45</td>\n",
              "      <td>129.0</td>\n",
              "      <td>M</td>\n",
              "      <td>21</td>\n",
              "      <td>33472.584856</td>\n",
              "      <td>0</td>\n",
              "    </tr>\n",
              "    <tr>\n",
              "      <th>1</th>\n",
              "      <td>18/7/2021</td>\n",
              "      <td>21:39:23</td>\n",
              "      <td>10</td>\n",
              "      <td>55</td>\n",
              "      <td>125.0</td>\n",
              "      <td>M</td>\n",
              "      <td>21</td>\n",
              "      <td>32919.896641</td>\n",
              "      <td>0</td>\n",
              "    </tr>\n",
              "    <tr>\n",
              "      <th>2</th>\n",
              "      <td>18/7/2021</td>\n",
              "      <td>21:39:29</td>\n",
              "      <td>10</td>\n",
              "      <td>90</td>\n",
              "      <td>126.0</td>\n",
              "      <td>M</td>\n",
              "      <td>21</td>\n",
              "      <td>33056.994819</td>\n",
              "      <td>0</td>\n",
              "    </tr>\n",
              "    <tr>\n",
              "      <th>3</th>\n",
              "      <td>18/7/2021</td>\n",
              "      <td>21:39:35</td>\n",
              "      <td>10</td>\n",
              "      <td>115</td>\n",
              "      <td>127.0</td>\n",
              "      <td>M</td>\n",
              "      <td>21</td>\n",
              "      <td>33194.805195</td>\n",
              "      <td>0</td>\n",
              "    </tr>\n",
              "    <tr>\n",
              "      <th>4</th>\n",
              "      <td>18/7/2021</td>\n",
              "      <td>21:39:40</td>\n",
              "      <td>10</td>\n",
              "      <td>107</td>\n",
              "      <td>126.0</td>\n",
              "      <td>M</td>\n",
              "      <td>21</td>\n",
              "      <td>33056.994819</td>\n",
              "      <td>0</td>\n",
              "    </tr>\n",
              "  </tbody>\n",
              "</table>\n",
              "</div>"
            ],
            "text/plain": [
              "        Date      Time  Subject  BPM    GSR Gender  Age  Human Resistance  Y\n",
              "0  18/7/2021  21:39:18       10   45  129.0      M   21      33472.584856  0\n",
              "1  18/7/2021  21:39:23       10   55  125.0      M   21      32919.896641  0\n",
              "2  18/7/2021  21:39:29       10   90  126.0      M   21      33056.994819  0\n",
              "3  18/7/2021  21:39:35       10  115  127.0      M   21      33194.805195  0\n",
              "4  18/7/2021  21:39:40       10  107  126.0      M   21      33056.994819  0"
            ]
          },
          "metadata": {},
          "execution_count": 8
        }
      ]
    },
    {
      "cell_type": "code",
      "metadata": {
        "colab": {
          "base_uri": "https://localhost:8080/",
          "height": 279
        },
        "id": "eL1Q2kacWWZX",
        "outputId": "5c6beca6-93d3-4f1e-a496-69d62ffbd469"
      },
      "source": [
        "n1=nor[ nor['Subject']==10 ]\n",
        "plt.plot(n1['GSR'])\n",
        "plt.xlabel('Time interval')\n",
        "plt.ylabel('GSR')\n",
        "plt.savefig('/content/drive/MyDrive/Autism/CSV/Results/nor_gsr.png')"
      ],
      "execution_count": null,
      "outputs": [
        {
          "output_type": "display_data",
          "data": {
            "image/png": "[encoded data removed]",
            "text/plain": [
              "<Figure size 432x288 with 1 Axes>"
            ]
          },
          "metadata": {
            "needs_background": "light"
          }
        }
      ]
    },
    {
      "cell_type": "code",
      "metadata": {
        "colab": {
          "base_uri": "https://localhost:8080/",
          "height": 279
        },
        "id": "c6JUl2hNXHw-",
        "outputId": "c085c68d-43b0-4dc7-d4c0-3c7535c336fa"
      },
      "source": [
        "plt.plot(n1['BPM'],'red')\n",
        "plt.xlabel('Time interval')\n",
        "plt.ylabel('BPM')\n",
        "plt.savefig('/content/drive/MyDrive/Autism/CSV/Results/nor_bpm.png')"
      ],
      "execution_count": null,
      "outputs": [
        {
          "output_type": "display_data",
          "data": {
            "image/png": "[encoded data removed]",
            "text/plain": [
              "<Figure size 432x288 with 1 Axes>"
            ]
          },
          "metadata": {
            "needs_background": "light"
          }
        }
      ]
    },
    {
      "cell_type": "code",
      "metadata": {
        "colab": {
          "base_uri": "https://localhost:8080/",
          "height": 203
        },
        "id": "PabsQLCswSDG",
        "outputId": "be527805-8afa-418a-eeab-c6d4ea1eb425"
      },
      "source": [
        "aut.loc[:,'Y']=1\n",
        "aut.head()"
      ],
      "execution_count": null,
      "outputs": [
        {
          "output_type": "execute_result",
          "data": {
            "text/html": [
              "<div>\n",
              "<style scoped>\n",
              "    .dataframe tbody tr th:only-of-type {\n",
              "        vertical-align: middle;\n",
              "    }\n",
              "\n",
              "    .dataframe tbody tr th {\n",
              "        vertical-align: top;\n",
              "    }\n",
              "\n",
              "    .dataframe thead th {\n",
              "        text-align: right;\n",
              "    }\n",
              "</style>\n",
              "<table border=\"1\" class=\"dataframe\">\n",
              "  <thead>\n",
              "    <tr style=\"text-align: right;\">\n",
              "      <th></th>\n",
              "      <th>Date</th>\n",
              "      <th>Time</th>\n",
              "      <th>Subject</th>\n",
              "      <th>BPM</th>\n",
              "      <th>GSR</th>\n",
              "      <th>Gender</th>\n",
              "      <th>Age</th>\n",
              "      <th>Human Resistance</th>\n",
              "      <th>Y</th>\n",
              "    </tr>\n",
              "  </thead>\n",
              "  <tbody>\n",
              "    <tr>\n",
              "      <th>0</th>\n",
              "      <td>9/8/2021</td>\n",
              "      <td>12:11:29</td>\n",
              "      <td>0</td>\n",
              "      <td>62</td>\n",
              "      <td>129.0</td>\n",
              "      <td>M</td>\n",
              "      <td>15</td>\n",
              "      <td>33472.584856</td>\n",
              "      <td>1</td>\n",
              "    </tr>\n",
              "    <tr>\n",
              "      <th>1</th>\n",
              "      <td>9/8/2021</td>\n",
              "      <td>12:11:29</td>\n",
              "      <td>0</td>\n",
              "      <td>97</td>\n",
              "      <td>129.0</td>\n",
              "      <td>M</td>\n",
              "      <td>15</td>\n",
              "      <td>33472.584856</td>\n",
              "      <td>1</td>\n",
              "    </tr>\n",
              "    <tr>\n",
              "      <th>2</th>\n",
              "      <td>9/8/2021</td>\n",
              "      <td>12:11:40</td>\n",
              "      <td>0</td>\n",
              "      <td>86</td>\n",
              "      <td>129.0</td>\n",
              "      <td>M</td>\n",
              "      <td>15</td>\n",
              "      <td>33472.584856</td>\n",
              "      <td>1</td>\n",
              "    </tr>\n",
              "    <tr>\n",
              "      <th>3</th>\n",
              "      <td>9/8/2021</td>\n",
              "      <td>12:11:46</td>\n",
              "      <td>0</td>\n",
              "      <td>104</td>\n",
              "      <td>130.0</td>\n",
              "      <td>M</td>\n",
              "      <td>15</td>\n",
              "      <td>33612.565445</td>\n",
              "      <td>1</td>\n",
              "    </tr>\n",
              "    <tr>\n",
              "      <th>4</th>\n",
              "      <td>9/8/2021</td>\n",
              "      <td>12:11:51</td>\n",
              "      <td>0</td>\n",
              "      <td>71</td>\n",
              "      <td>125.0</td>\n",
              "      <td>M</td>\n",
              "      <td>15</td>\n",
              "      <td>32919.896641</td>\n",
              "      <td>1</td>\n",
              "    </tr>\n",
              "  </tbody>\n",
              "</table>\n",
              "</div>"
            ],
            "text/plain": [
              "       Date      Time  Subject  BPM    GSR Gender  Age  Human Resistance  Y\n",
              "0  9/8/2021  12:11:29        0   62  129.0      M   15      33472.584856  1\n",
              "1  9/8/2021  12:11:29        0   97  129.0      M   15      33472.584856  1\n",
              "2  9/8/2021  12:11:40        0   86  129.0      M   15      33472.584856  1\n",
              "3  9/8/2021  12:11:46        0  104  130.0      M   15      33612.565445  1\n",
              "4  9/8/2021  12:11:51        0   71  125.0      M   15      32919.896641  1"
            ]
          },
          "metadata": {},
          "execution_count": 11
        }
      ]
    },
    {
      "cell_type": "code",
      "metadata": {
        "colab": {
          "base_uri": "https://localhost:8080/",
          "height": 52
        },
        "id": "WHPi7sAJaEYN",
        "outputId": "88feee91-e90a-4ecc-918f-12113f54acaa"
      },
      "source": [
        "'''\n",
        "a1=aut[ aut['Subject']==0 ]\n",
        "plt.plot(a1['GSR'])\n",
        "plt.xlabel('Time interval')\n",
        "plt.ylabel('GSR')\n",
        "plt.savefig('/content/drive/MyDrive/Autism/CSV/Results/aut_gsr.png')\n",
        "'''"
      ],
      "execution_count": null,
      "outputs": [
        {
          "output_type": "execute_result",
          "data": {
            "application/vnd.google.colaboratory.intrinsic+json": {
              "type": "string"
            },
            "text/plain": [
              "\"\\na1=aut[ aut['Subject']==0 ]\\nplt.plot(a1['GSR'])\\nplt.xlabel('Time interval')\\nplt.ylabel('GSR')\\nplt.savefig('/content/drive/MyDrive/Autism/CSV/Results/aut_gsr.png')\\n\""
            ]
          },
          "metadata": {},
          "execution_count": 12
        }
      ]
    },
    {
      "cell_type": "code",
      "metadata": {
        "colab": {
          "base_uri": "https://localhost:8080/",
          "height": 52
        },
        "id": "pLGo_ywxaOqd",
        "outputId": "c3b9a0f4-94cc-4fad-a98c-f0acb09eeccb"
      },
      "source": [
        "'''\n",
        "plt.plot(a1['BPM'],'red')\n",
        "plt.xlabel('Time interval')\n",
        "plt.ylabel('BPM')\n",
        "plt.savefig('/content/drive/MyDrive/Autism/CSV/Results/aut_bpm.png')\n",
        "'''"
      ],
      "execution_count": null,
      "outputs": [
        {
          "output_type": "execute_result",
          "data": {
            "application/vnd.google.colaboratory.intrinsic+json": {
              "type": "string"
            },
            "text/plain": [
              "\"\\nplt.plot(a1['BPM'],'red')\\nplt.xlabel('Time interval')\\nplt.ylabel('BPM')\\nplt.savefig('/content/drive/MyDrive/Autism/CSV/Results/aut_bpm.png')\\n\""
            ]
          },
          "metadata": {},
          "execution_count": 13
        }
      ]
    },
    {
      "cell_type": "code",
      "metadata": {
        "id": "oyBzSPj_wcch"
      },
      "source": [
        "df=nor.append(aut, ignore_index=True)"
      ],
      "execution_count": null,
      "outputs": []
    },
    {
      "cell_type": "code",
      "metadata": {
        "colab": {
          "base_uri": "https://localhost:8080/",
          "height": 203
        },
        "id": "1bwmgC7-wzON",
        "outputId": "2fff7ff6-5535-4457-f582-9b740690573a"
      },
      "source": [
        "df = df.sample(frac = 1)\n",
        "df.head()"
      ],
      "execution_count": null,
      "outputs": [
        {
          "output_type": "execute_result",
          "data": {
            "text/html": [
              "<div>\n",
              "<style scoped>\n",
              "    .dataframe tbody tr th:only-of-type {\n",
              "        vertical-align: middle;\n",
              "    }\n",
              "\n",
              "    .dataframe tbody tr th {\n",
              "        vertical-align: top;\n",
              "    }\n",
              "\n",
              "    .dataframe thead th {\n",
              "        text-align: right;\n",
              "    }\n",
              "</style>\n",
              "<table border=\"1\" class=\"dataframe\">\n",
              "  <thead>\n",
              "    <tr style=\"text-align: right;\">\n",
              "      <th></th>\n",
              "      <th>Date</th>\n",
              "      <th>Time</th>\n",
              "      <th>Subject</th>\n",
              "      <th>BPM</th>\n",
              "      <th>GSR</th>\n",
              "      <th>Gender</th>\n",
              "      <th>Age</th>\n",
              "      <th>Human Resistance</th>\n",
              "      <th>Y</th>\n",
              "    </tr>\n",
              "  </thead>\n",
              "  <tbody>\n",
              "    <tr>\n",
              "      <th>1977</th>\n",
              "      <td>3/90/1978</td>\n",
              "      <td>9:3:15</td>\n",
              "      <td>3</td>\n",
              "      <td>109</td>\n",
              "      <td>127.8</td>\n",
              "      <td>M</td>\n",
              "      <td>18</td>\n",
              "      <td>33305.570016</td>\n",
              "      <td>1</td>\n",
              "    </tr>\n",
              "    <tr>\n",
              "      <th>853</th>\n",
              "      <td>15/7/2021</td>\n",
              "      <td>17:3:5</td>\n",
              "      <td>21</td>\n",
              "      <td>92</td>\n",
              "      <td>125.6</td>\n",
              "      <td>F</td>\n",
              "      <td>65</td>\n",
              "      <td>33002.070393</td>\n",
              "      <td>0</td>\n",
              "    </tr>\n",
              "    <tr>\n",
              "      <th>498</th>\n",
              "      <td>15/7/2021</td>\n",
              "      <td>14:31:45</td>\n",
              "      <td>16</td>\n",
              "      <td>70</td>\n",
              "      <td>126.2</td>\n",
              "      <td>F</td>\n",
              "      <td>49</td>\n",
              "      <td>33084.499741</td>\n",
              "      <td>0</td>\n",
              "    </tr>\n",
              "    <tr>\n",
              "      <th>1807</th>\n",
              "      <td>3/90/1978</td>\n",
              "      <td>9:3:15</td>\n",
              "      <td>3</td>\n",
              "      <td>52</td>\n",
              "      <td>128.8</td>\n",
              "      <td>M</td>\n",
              "      <td>18</td>\n",
              "      <td>33444.676409</td>\n",
              "      <td>1</td>\n",
              "    </tr>\n",
              "    <tr>\n",
              "      <th>1176</th>\n",
              "      <td>24/8/2021</td>\n",
              "      <td>16:14:35</td>\n",
              "      <td>26</td>\n",
              "      <td>105</td>\n",
              "      <td>125.0</td>\n",
              "      <td>M</td>\n",
              "      <td>20</td>\n",
              "      <td>32919.896641</td>\n",
              "      <td>0</td>\n",
              "    </tr>\n",
              "  </tbody>\n",
              "</table>\n",
              "</div>"
            ],
            "text/plain": [
              "           Date      Time  Subject  BPM    GSR Gender  Age  Human Resistance  Y\n",
              "1977  3/90/1978    9:3:15        3  109  127.8      M   18      33305.570016  1\n",
              "853   15/7/2021    17:3:5       21   92  125.6      F   65      33002.070393  0\n",
              "498   15/7/2021  14:31:45       16   70  126.2      F   49      33084.499741  0\n",
              "1807  3/90/1978    9:3:15        3   52  128.8      M   18      33444.676409  1\n",
              "1176  24/8/2021  16:14:35       26  105  125.0      M   20      32919.896641  0"
            ]
          },
          "metadata": {},
          "execution_count": 15
        }
      ]
    },
    {
      "cell_type": "code",
      "metadata": {
        "id": "CXcDlFOX23_0"
      },
      "source": [
        "X=df[ ['BPM','GSR','Human Resistance'] ]\n",
        "Y=df['Y']"
      ],
      "execution_count": null,
      "outputs": []
    },
    {
      "cell_type": "code",
      "metadata": {
        "id": "AWZvHlNX5ceU"
      },
      "source": [
        "from sklearn.model_selection import train_test_split\n",
        "X_train,X_test,y_train,y_test=train_test_split(X, Y, test_size=0.30)"
      ],
      "execution_count": null,
      "outputs": []
    },
    {
      "cell_type": "markdown",
      "metadata": {
        "id": "l11e-qTo6os8"
      },
      "source": [
        "#SVM"
      ]
    },
    {
      "cell_type": "code",
      "metadata": {
        "colab": {
          "base_uri": "https://localhost:8080/"
        },
        "id": "HGnkAIny57Rl",
        "outputId": "a80072fa-c272-48fc-c31a-192b5f3eca3a"
      },
      "source": [
        "from sklearn.svm import SVC\n",
        "clf1 = SVC(gamma='auto')\n",
        "clf1.fit(X_train, y_train)"
      ],
      "execution_count": null,
      "outputs": [
        {
          "output_type": "execute_result",
          "data": {
            "text/plain": [
              "SVC(gamma='auto')"
            ]
          },
          "metadata": {},
          "execution_count": 18
        }
      ]
    },
    {
      "cell_type": "code",
      "metadata": {
        "id": "t2tM5M3B6X8K"
      },
      "source": [
        "y_pred1=clf1.predict(X_test)"
      ],
      "execution_count": null,
      "outputs": []
    },
    {
      "cell_type": "code",
      "metadata": {
        "colab": {
          "base_uri": "https://localhost:8080/"
        },
        "id": "ZUdiMIc47AVz",
        "outputId": "6ee6df82-d99b-4def-c3fe-b92ec68a7b2c"
      },
      "source": [
        "from sklearn.metrics import accuracy_score\n",
        "accuracy_score(y_test, y_pred1)"
      ],
      "execution_count": null,
      "outputs": [
        {
          "output_type": "execute_result",
          "data": {
            "text/plain": [
              "0.8360215053763441"
            ]
          },
          "metadata": {},
          "execution_count": 80
        }
      ]
    },
    {
      "cell_type": "code",
      "metadata": {
        "id": "HNmrtCzZMKQz",
        "colab": {
          "base_uri": "https://localhost:8080/"
        },
        "outputId": "0c04b69e-4f0d-4527-94ce-177046528e4f"
      },
      "source": [
        "from sklearn.metrics import classification_report\n",
        "print(classification_report(y_test, y_pred1))"
      ],
      "execution_count": null,
      "outputs": [
        {
          "output_type": "stream",
          "name": "stdout",
          "text": [
            "              precision    recall  f1-score   support\n",
            "\n",
            "           0       0.82      0.97      0.89       511\n",
            "           1       0.89      0.54      0.67       233\n",
            "\n",
            "    accuracy                           0.84       744\n",
            "   macro avg       0.86      0.76      0.78       744\n",
            "weighted avg       0.84      0.84      0.82       744\n",
            "\n"
          ]
        }
      ]
    },
    {
      "cell_type": "markdown",
      "metadata": {
        "id": "ouNZCbzE6txE"
      },
      "source": [
        "#Decision Tree"
      ]
    },
    {
      "cell_type": "code",
      "metadata": {
        "colab": {
          "base_uri": "https://localhost:8080/"
        },
        "id": "vruJPxhg6jR4",
        "outputId": "34164f65-16c7-433d-8f91-01113be7a38c"
      },
      "source": [
        "from sklearn.tree import DecisionTreeClassifier\n",
        "clf2 = DecisionTreeClassifier(random_state=0)\n",
        "clf2.fit(X_train, y_train)"
      ],
      "execution_count": null,
      "outputs": [
        {
          "output_type": "execute_result",
          "data": {
            "text/plain": [
              "DecisionTreeClassifier(random_state=0)"
            ]
          },
          "metadata": {},
          "execution_count": 22
        }
      ]
    },
    {
      "cell_type": "code",
      "metadata": {
        "id": "O83Nidpx7jth"
      },
      "source": [
        "y_pred2=clf2.predict(X_test)"
      ],
      "execution_count": null,
      "outputs": []
    },
    {
      "cell_type": "code",
      "metadata": {
        "id": "Q9fzVicL7wx1"
      },
      "source": [
        "#accuracy_score(y_test, y_pred2)"
      ],
      "execution_count": null,
      "outputs": []
    },
    {
      "cell_type": "code",
      "metadata": {
        "colab": {
          "base_uri": "https://localhost:8080/"
        },
        "id": "JBft5cvG_bYl",
        "outputId": "21806e27-7065-452c-ecda-0c4820aac044"
      },
      "source": [
        "print(classification_report(y_test, y_pred2))"
      ],
      "execution_count": null,
      "outputs": [
        {
          "output_type": "stream",
          "name": "stdout",
          "text": [
            "              precision    recall  f1-score   support\n",
            "\n",
            "           0       0.82      0.93      0.87       511\n",
            "           1       0.78      0.54      0.64       233\n",
            "\n",
            "    accuracy                           0.81       744\n",
            "   macro avg       0.80      0.73      0.75       744\n",
            "weighted avg       0.80      0.81      0.80       744\n",
            "\n"
          ]
        }
      ]
    },
    {
      "cell_type": "markdown",
      "metadata": {
        "id": "pf9vVc7-8GkT"
      },
      "source": [
        "#Naive Bayes"
      ]
    },
    {
      "cell_type": "code",
      "metadata": {
        "colab": {
          "base_uri": "https://localhost:8080/"
        },
        "id": "rLjoNMh29LjL",
        "outputId": "f52fb4c5-786e-428e-aae3-2ac740f73be2"
      },
      "source": [
        "from sklearn.naive_bayes import GaussianNB\n",
        "clf3 = GaussianNB()\n",
        "clf3.fit(X_train, y_train)"
      ],
      "execution_count": null,
      "outputs": [
        {
          "output_type": "execute_result",
          "data": {
            "text/plain": [
              "GaussianNB()"
            ]
          },
          "metadata": {},
          "execution_count": 26
        }
      ]
    },
    {
      "cell_type": "code",
      "metadata": {
        "id": "DODMstgM9W9f"
      },
      "source": [
        "y_pred3=clf3.predict(X_test)"
      ],
      "execution_count": null,
      "outputs": []
    },
    {
      "cell_type": "code",
      "metadata": {
        "id": "yTYo8Az49L_K"
      },
      "source": [
        "#accuracy_score(y_test, y_pred3)"
      ],
      "execution_count": null,
      "outputs": []
    },
    {
      "cell_type": "code",
      "metadata": {
        "colab": {
          "base_uri": "https://localhost:8080/"
        },
        "id": "G40ia10K_es8",
        "outputId": "0efaa667-30cd-4424-c929-52a1f20669c3"
      },
      "source": [
        "print(classification_report(y_test, y_pred3))"
      ],
      "execution_count": null,
      "outputs": [
        {
          "output_type": "stream",
          "name": "stdout",
          "text": [
            "              precision    recall  f1-score   support\n",
            "\n",
            "           0       0.81      0.91      0.86       511\n",
            "           1       0.74      0.54      0.62       233\n",
            "\n",
            "    accuracy                           0.80       744\n",
            "   macro avg       0.78      0.73      0.74       744\n",
            "weighted avg       0.79      0.80      0.79       744\n",
            "\n"
          ]
        }
      ]
    },
    {
      "cell_type": "markdown",
      "metadata": {
        "id": "3wTxDd9j9n2U"
      },
      "source": [
        "#KNN"
      ]
    },
    {
      "cell_type": "code",
      "metadata": {
        "colab": {
          "base_uri": "https://localhost:8080/"
        },
        "id": "sAbGYjr59paC",
        "outputId": "ca6e814c-8e1b-45c2-c51a-ddd5669ad04c"
      },
      "source": [
        "from sklearn.neighbors import KNeighborsClassifier\n",
        "clf4= KNeighborsClassifier(n_neighbors=15)\n",
        "clf4.fit(X_train,y_train)"
      ],
      "execution_count": null,
      "outputs": [
        {
          "output_type": "execute_result",
          "data": {
            "text/plain": [
              "KNeighborsClassifier(n_neighbors=15)"
            ]
          },
          "metadata": {},
          "execution_count": 30
        }
      ]
    },
    {
      "cell_type": "code",
      "metadata": {
        "id": "Oqn5kb1o917b"
      },
      "source": [
        "y_pred4=clf4.predict(X_test)"
      ],
      "execution_count": null,
      "outputs": []
    },
    {
      "cell_type": "code",
      "metadata": {
        "id": "lUnFr0oF-Aq8"
      },
      "source": [
        "#accuracy_score(y_test, y_pred4)"
      ],
      "execution_count": null,
      "outputs": []
    },
    {
      "cell_type": "code",
      "metadata": {
        "colab": {
          "base_uri": "https://localhost:8080/"
        },
        "id": "OIZgBZWS_kXE",
        "outputId": "369ab139-6328-4e93-86f3-62504407a208"
      },
      "source": [
        "print(classification_report(y_test, y_pred4))"
      ],
      "execution_count": null,
      "outputs": [
        {
          "output_type": "stream",
          "name": "stdout",
          "text": [
            "              precision    recall  f1-score   support\n",
            "\n",
            "           0       0.81      0.98      0.89       511\n",
            "           1       0.91      0.50      0.64       233\n",
            "\n",
            "    accuracy                           0.83       744\n",
            "   macro avg       0.86      0.74      0.76       744\n",
            "weighted avg       0.84      0.83      0.81       744\n",
            "\n"
          ]
        }
      ]
    },
    {
      "cell_type": "markdown",
      "metadata": {
        "id": "G52SBo6H-Plb"
      },
      "source": [
        "#Logistic Regession"
      ]
    },
    {
      "cell_type": "code",
      "metadata": {
        "colab": {
          "base_uri": "https://localhost:8080/"
        },
        "id": "mfu4hGf7-CYm",
        "outputId": "831eeda5-2fb9-4f56-b204-87068eef05c8"
      },
      "source": [
        "from sklearn.linear_model import LogisticRegression\n",
        "clf5= LogisticRegression()\n",
        "clf5.fit(X_train,y_train)"
      ],
      "execution_count": null,
      "outputs": [
        {
          "output_type": "execute_result",
          "data": {
            "text/plain": [
              "LogisticRegression()"
            ]
          },
          "metadata": {},
          "execution_count": 74
        }
      ]
    },
    {
      "cell_type": "code",
      "metadata": {
        "id": "XAPEwxKa-cQr"
      },
      "source": [
        "y_pred5=clf5.predict(X_test)"
      ],
      "execution_count": null,
      "outputs": []
    },
    {
      "cell_type": "code",
      "metadata": {
        "id": "c-VoAmeE-gHn"
      },
      "source": [
        "#accuracy_score(y_test, y_pred5)"
      ],
      "execution_count": null,
      "outputs": []
    },
    {
      "cell_type": "code",
      "metadata": {
        "colab": {
          "base_uri": "https://localhost:8080/"
        },
        "id": "gxL2pTQs_nID",
        "outputId": "4fba09ad-c355-4ace-dd6a-b1cecf8c15b3"
      },
      "source": [
        "print(classification_report(y_test, y_pred5))"
      ],
      "execution_count": null,
      "outputs": [
        {
          "output_type": "stream",
          "name": "stdout",
          "text": [
            "              precision    recall  f1-score   support\n",
            "\n",
            "           0       0.69      1.00      0.81       511\n",
            "           1       0.00      0.00      0.00       233\n",
            "\n",
            "    accuracy                           0.69       744\n",
            "   macro avg       0.34      0.50      0.41       744\n",
            "weighted avg       0.47      0.69      0.56       744\n",
            "\n"
          ]
        },
        {
          "output_type": "stream",
          "name": "stderr",
          "text": [
            "/usr/local/lib/python3.7/dist-packages/sklearn/metrics/_classification.py:1308: UndefinedMetricWarning: Precision and F-score are ill-defined and being set to 0.0 in labels with no predicted samples. Use `zero_division` parameter to control this behavior.\n",
            "  _warn_prf(average, modifier, msg_start, len(result))\n",
            "/usr/local/lib/python3.7/dist-packages/sklearn/metrics/_classification.py:1308: UndefinedMetricWarning: Precision and F-score are ill-defined and being set to 0.0 in labels with no predicted samples. Use `zero_division` parameter to control this behavior.\n",
            "  _warn_prf(average, modifier, msg_start, len(result))\n",
            "/usr/local/lib/python3.7/dist-packages/sklearn/metrics/_classification.py:1308: UndefinedMetricWarning: Precision and F-score are ill-defined and being set to 0.0 in labels with no predicted samples. Use `zero_division` parameter to control this behavior.\n",
            "  _warn_prf(average, modifier, msg_start, len(result))\n"
          ]
        }
      ]
    },
    {
      "cell_type": "markdown",
      "metadata": {
        "id": "kY7zGhX9-4Mz"
      },
      "source": [
        "#SGD"
      ]
    },
    {
      "cell_type": "code",
      "metadata": {
        "colab": {
          "base_uri": "https://localhost:8080/"
        },
        "id": "V1MW4YMk-5uS",
        "outputId": "74d78185-774c-49d5-fbb1-d970dd81dcac"
      },
      "source": [
        "from sklearn.linear_model import SGDClassifier\n",
        "clf6=SGDClassifier(loss='modified_huber')\n",
        "clf6.fit(X_train,y_train)"
      ],
      "execution_count": null,
      "outputs": [
        {
          "output_type": "execute_result",
          "data": {
            "text/plain": [
              "SGDClassifier(loss='modified_huber')"
            ]
          },
          "metadata": {},
          "execution_count": 77
        }
      ]
    },
    {
      "cell_type": "code",
      "metadata": {
        "id": "-KNOOG70_CAw"
      },
      "source": [
        "y_pred6=clf6.predict(X_test)"
      ],
      "execution_count": null,
      "outputs": []
    },
    {
      "cell_type": "code",
      "metadata": {
        "id": "rIdbcTVW_HSi"
      },
      "source": [
        "#accuracy_score(y_test, y_pred6)"
      ],
      "execution_count": null,
      "outputs": []
    },
    {
      "cell_type": "code",
      "metadata": {
        "colab": {
          "base_uri": "https://localhost:8080/"
        },
        "id": "0wfyzrr8_rAk",
        "outputId": "66613465-fb1b-4d0e-f28d-24fa20982f63"
      },
      "source": [
        "print(classification_report(y_test, y_pred6))"
      ],
      "execution_count": null,
      "outputs": [
        {
          "output_type": "stream",
          "name": "stdout",
          "text": [
            "              precision    recall  f1-score   support\n",
            "\n",
            "           0       0.69      1.00      0.81       511\n",
            "           1       0.00      0.00      0.00       233\n",
            "\n",
            "    accuracy                           0.69       744\n",
            "   macro avg       0.34      0.50      0.41       744\n",
            "weighted avg       0.47      0.69      0.56       744\n",
            "\n"
          ]
        },
        {
          "output_type": "stream",
          "name": "stderr",
          "text": [
            "/usr/local/lib/python3.7/dist-packages/sklearn/metrics/_classification.py:1308: UndefinedMetricWarning: Precision and F-score are ill-defined and being set to 0.0 in labels with no predicted samples. Use `zero_division` parameter to control this behavior.\n",
            "  _warn_prf(average, modifier, msg_start, len(result))\n",
            "/usr/local/lib/python3.7/dist-packages/sklearn/metrics/_classification.py:1308: UndefinedMetricWarning: Precision and F-score are ill-defined and being set to 0.0 in labels with no predicted samples. Use `zero_division` parameter to control this behavior.\n",
            "  _warn_prf(average, modifier, msg_start, len(result))\n",
            "/usr/local/lib/python3.7/dist-packages/sklearn/metrics/_classification.py:1308: UndefinedMetricWarning: Precision and F-score are ill-defined and being set to 0.0 in labels with no predicted samples. Use `zero_division` parameter to control this behavior.\n",
            "  _warn_prf(average, modifier, msg_start, len(result))\n"
          ]
        }
      ]
    },
    {
      "cell_type": "markdown",
      "metadata": {
        "id": "NJRx7hMxAtEb"
      },
      "source": [
        "#Random Forest"
      ]
    },
    {
      "cell_type": "code",
      "metadata": {
        "colab": {
          "base_uri": "https://localhost:8080/"
        },
        "id": "FY2d4Dp7_Jww",
        "outputId": "d5736700-199c-40aa-82fc-8eeccd2f44da"
      },
      "source": [
        "from sklearn.ensemble import RandomForestClassifier\n",
        "clf7=RandomForestClassifier()\n",
        "clf7.fit(X_train,y_train)"
      ],
      "execution_count": null,
      "outputs": [
        {
          "output_type": "execute_result",
          "data": {
            "text/plain": [
              "RandomForestClassifier()"
            ]
          },
          "metadata": {},
          "execution_count": 42
        }
      ]
    },
    {
      "cell_type": "code",
      "metadata": {
        "id": "LDl62-7QA2Mg"
      },
      "source": [
        "y_pred7=clf7.predict(X_test)"
      ],
      "execution_count": null,
      "outputs": []
    },
    {
      "cell_type": "code",
      "metadata": {
        "id": "RKCLFuTi-6Or"
      },
      "source": [
        "#accuracy_score(y_test, y_pred7)"
      ],
      "execution_count": null,
      "outputs": []
    },
    {
      "cell_type": "code",
      "metadata": {
        "colab": {
          "base_uri": "https://localhost:8080/"
        },
        "id": "Y1F5TIed_uEk",
        "outputId": "601ed5ff-8878-46a3-aa03-aa2c51f45bcc"
      },
      "source": [
        "print(classification_report(y_test, y_pred7))"
      ],
      "execution_count": null,
      "outputs": [
        {
          "output_type": "stream",
          "name": "stdout",
          "text": [
            "              precision    recall  f1-score   support\n",
            "\n",
            "           0       0.82      0.90      0.86       511\n",
            "           1       0.73      0.57      0.64       233\n",
            "\n",
            "    accuracy                           0.80       744\n",
            "   macro avg       0.78      0.74      0.75       744\n",
            "weighted avg       0.79      0.80      0.79       744\n",
            "\n"
          ]
        }
      ]
    },
    {
      "cell_type": "code",
      "metadata": {
        "id": "CgbQ9Qe7_wfD"
      },
      "source": [
        "$"
      ],
      "execution_count": null,
      "outputs": []
    },
    {
      "cell_type": "code",
      "metadata": {
        "id": "AjsHNgGH_zYc"
      },
      "source": [
        "c"
      ],
      "execution_count": null,
      "outputs": []
    },
    {
      "cell_type": "code",
      "metadata": {
        "id": "10W2Lt7wCWXy"
      },
      "source": [
        "dm={'Models':['SVM','Decision Tree', 'Naive Bayes', 'KNN', 'Logistic Regression', 'SGD','Random Forest'] ,\n",
        "'Acuracy Score':[0.7876344086021505,0.7741935483870968,0.7674731182795699, 0.7849462365591398, 0.7688172043010753,0.6384408602150538, 0.7674731182795699  ] }\n",
        "#val3 = [[\"\" for c in range(10)] for r in range(10)] \n",
        "   \n",
        "score=pd.DataFrame(dm)\n"
      ],
      "execution_count": null,
      "outputs": []
    },
    {
      "cell_type": "code",
      "metadata": {
        "id": "fEQoi0RJF7iD"
      },
      "source": [
        "score"
      ],
      "execution_count": null,
      "outputs": []
    },
    {
      "cell_type": "code",
      "metadata": {
        "id": "OJQoB73oOD-p"
      },
      "source": [
        "score.to_csv('/content/drive/MyDrive/Autism/CSV/score.csv')"
      ],
      "execution_count": null,
      "outputs": []
    },
    {
      "cell_type": "code",
      "metadata": {
        "id": "b8qhHFNvOxAA"
      },
      "source": [
        "from sklearn import metrics\n",
        "fpr1, tpr1, thresholds1 = metrics.roc_curve(y_test, y_pred1)\n",
        "fpr2, tpr2, thresholds2 = metrics.roc_curve(y_test, y_pred2)\n",
        "fpr3, tpr3, thresholds3 = metrics.roc_curve(y_test, y_pred3)\n",
        "fpr4, tpr4, thresholds4 = metrics.roc_curve(y_test, y_pred4)\n",
        "fpr5, tpr5, thresholds5 = metrics.roc_curve(y_test, y_pred5)\n",
        "fpr6, tpr6, thresholds6 = metrics.roc_curve(y_test, y_pred6)\n",
        "fpr7, tpr7, thresholds7 = metrics.roc_curve(y_test, y_pred7)\n",
        "\n",
        "plt.plot(fpr1,tpr1)\n",
        "plt.plot(fpr2,tpr2)\n",
        "plt.plot(fpr3,tpr3)\n",
        "plt.plot(fpr4,tpr4)\n",
        "plt.plot(fpr5,tpr5)\n",
        "plt.plot(fpr6,tpr6)\n",
        "plt.plot(fpr7,tpr7)\n",
        "\n",
        "plt.legend( ['SVM','Decision Tree', 'Naive Bayes', 'KNN', 'Logistic Regression', 'SGD','Random Forest'] )\n",
        "\n",
        "plt.xlabel('False Positive Rate')\n",
        "plt.ylabel('True Positive Rate')\n",
        "plt.title('ROC curve')\n",
        "plt.savefig('/content/drive/MyDrive/Autism/CSV/roc.png')"
      ],
      "execution_count": null,
      "outputs": []
    },
    {
      "cell_type": "code",
      "metadata": {
        "id": "fsTRfDpeTQTH"
      },
      "source": [
        "import seaborn as sns\n",
        "plt.plot([i for i in range(len(X['BPM']))],X['BPM'])\n",
        "#sns.stripplot(data =X[['BPM']], jitter=0.2, size=2)"
      ],
      "execution_count": null,
      "outputs": []
    },
    {
      "cell_type": "code",
      "metadata": {
        "id": "LNBt1ExCQsK3"
      },
      "source": [
        "$"
      ],
      "execution_count": null,
      "outputs": []
    },
    {
      "cell_type": "code",
      "metadata": {
        "id": "6F03exA2A-dz"
      },
      "source": [
        "import plotly.graph_objects as go\n",
        "\n",
        "fig = go.Figure(data=[go.Table(header=dict(values=['Model', 'Accuracy Scores']),\n",
        "                 cells=dict(values=[['SVM'], [0.7876344086021505] ]))\n",
        "                     ])\n",
        "fig.show()"
      ],
      "execution_count": null,
      "outputs": []
    },
    {
      "cell_type": "code",
      "metadata": {
        "id": "Grgcchkn7lBD"
      },
      "source": [
        "#$"
      ],
      "execution_count": null,
      "outputs": []
    },
    {
      "cell_type": "code",
      "metadata": {
        "id": "aG5IhW4V1-lJ"
      },
      "source": [
        "from sklearn.decomposition import PCA\n",
        "pca = PCA()"
      ],
      "execution_count": null,
      "outputs": []
    },
    {
      "cell_type": "code",
      "metadata": {
        "id": "eAXBlwGv23F9"
      },
      "source": [
        "pca.fit(X)\n",
        "print(pca.explained_variance_ratio_)"
      ],
      "execution_count": null,
      "outputs": []
    },
    {
      "cell_type": "code",
      "metadata": {
        "id": "8FuU53Ga3InL"
      },
      "source": [
        ""
      ],
      "execution_count": null,
      "outputs": []
    }
  ]
}